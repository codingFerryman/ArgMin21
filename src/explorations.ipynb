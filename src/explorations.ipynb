{
 "cells": [
  {
   "cell_type": "code",
   "execution_count": 66,
   "metadata": {
    "collapsed": true
   },
   "outputs": [],
   "source": [
    "import pandas as pd\n",
    "from pathlib import Path\n",
    "from collections import Counter\n",
    "import matplotlib.pyplot as plt"
   ]
  },
  {
   "cell_type": "code",
   "execution_count": 11,
   "outputs": [],
   "source": [
    "from data.code.track_1_kp_matching import load_kpm_data\n",
    "from utils import get_data_path"
   ],
   "metadata": {
    "collapsed": false,
    "pycharm": {
     "name": "#%%\n"
    }
   }
  },
  {
   "cell_type": "code",
   "execution_count": 12,
   "outputs": [],
   "source": [
    "gold_data_dir = Path(get_data_path(), 'kpm_data')"
   ],
   "metadata": {
    "collapsed": false,
    "pycharm": {
     "name": "#%%\n"
    }
   }
  },
  {
   "cell_type": "code",
   "execution_count": 14,
   "outputs": [
    {
     "name": "stdout",
     "output_type": "stream",
     "text": [
      "\n",
      "ֿ** loading task data:\n",
      "\t(-1, 'Assisted suicide should be a criminal offence'): loaded 121 arguments and 4 key points\n",
      "\t(-1, 'Homeschooling should be banned'): loaded 129 arguments and 6 key points\n",
      "\t(-1, 'The vow of celibacy should be abandoned'): loaded 112 arguments and 6 key points\n",
      "\t(-1, 'We should abandon marriage'): loaded 111 arguments and 5 key points\n",
      "\t(-1, 'We should abolish capital punishment'): loaded 110 arguments and 5 key points\n",
      "\t(-1, 'We should abolish intellectual property rights'): loaded 123 arguments and 4 key points\n",
      "\t(-1, 'We should adopt atheism'): loaded 123 arguments and 3 key points\n",
      "\t(-1, 'We should adopt libertarianism'): loaded 113 arguments and 5 key points\n",
      "\t(-1, 'We should ban human cloning'): loaded 123 arguments and 5 key points\n",
      "\t(-1, 'We should ban private military companies'): loaded 106 arguments and 4 key points\n",
      "\t(-1, 'We should ban the use of child actors'): loaded 121 arguments and 5 key points\n",
      "\t(-1, 'We should close Guantanamo Bay detention camp'): loaded 113 arguments and 3 key points\n",
      "\t(-1, 'We should end mandatory retirement'): loaded 78 arguments and 2 key points\n",
      "\t(-1, 'We should fight for the abolition of nuclear weapons'): loaded 80 arguments and 1 key points\n",
      "\t(-1, 'We should fight urbanization'): loaded 106 arguments and 3 key points\n",
      "\t(-1, 'We should introduce compulsory voting'): loaded 129 arguments and 4 key points\n",
      "\t(-1, 'We should legalize cannabis'): loaded 109 arguments and 5 key points\n",
      "\t(-1, 'We should legalize prostitution'): loaded 99 arguments and 4 key points\n",
      "\t(-1, 'We should legalize sex selection'): loaded 126 arguments and 6 key points\n",
      "\t(-1, 'We should prohibit flag burning'): loaded 118 arguments and 2 key points\n",
      "\t(-1, 'We should prohibit women in combat'): loaded 130 arguments and 6 key points\n",
      "\t(-1, 'We should subsidize journalism'): loaded 110 arguments and 3 key points\n",
      "\t(-1, 'We should subsidize space exploration'): loaded 115 arguments and 4 key points\n",
      "\t(-1, 'We should subsidize vocational education'): loaded 95 arguments and 4 key points\n",
      "\t(1, 'Assisted suicide should be a criminal offence'): loaded 125 arguments and 6 key points\n",
      "\t(1, 'Homeschooling should be banned'): loaded 115 arguments and 4 key points\n",
      "\t(1, 'The vow of celibacy should be abandoned'): loaded 122 arguments and 5 key points\n",
      "\t(1, 'We should abandon marriage'): loaded 125 arguments and 4 key points\n",
      "\t(1, 'We should abolish capital punishment'): loaded 126 arguments and 5 key points\n",
      "\t(1, 'We should abolish intellectual property rights'): loaded 91 arguments and 6 key points\n",
      "\t(1, 'We should adopt atheism'): loaded 105 arguments and 4 key points\n",
      "\t(1, 'We should adopt libertarianism'): loaded 124 arguments and 4 key points\n",
      "\t(1, 'We should ban human cloning'): loaded 122 arguments and 4 key points\n",
      "\t(1, 'We should ban private military companies'): loaded 126 arguments and 5 key points\n",
      "\t(1, 'We should ban the use of child actors'): loaded 123 arguments and 5 key points\n",
      "\t(1, 'We should close Guantanamo Bay detention camp'): loaded 128 arguments and 6 key points\n",
      "\t(1, 'We should end mandatory retirement'): loaded 122 arguments and 5 key points\n",
      "\t(1, 'We should fight for the abolition of nuclear weapons'): loaded 116 arguments and 2 key points\n",
      "\t(1, 'We should fight urbanization'): loaded 127 arguments and 4 key points\n",
      "\t(1, 'We should introduce compulsory voting'): loaded 115 arguments and 3 key points\n",
      "\t(1, 'We should legalize cannabis'): loaded 137 arguments and 6 key points\n",
      "\t(1, 'We should legalize prostitution'): loaded 132 arguments and 5 key points\n",
      "\t(1, 'We should legalize sex selection'): loaded 118 arguments and 5 key points\n",
      "\t(1, 'We should prohibit flag burning'): loaded 99 arguments and 2 key points\n",
      "\t(1, 'We should prohibit women in combat'): loaded 107 arguments and 5 key points\n",
      "\t(1, 'We should subsidize journalism'): loaded 118 arguments and 4 key points\n",
      "\t(1, 'We should subsidize space exploration'): loaded 132 arguments and 5 key points\n",
      "\t(1, 'We should subsidize vocational education'): loaded 128 arguments and 4 key points\n"
     ]
    }
   ],
   "source": [
    "arg_df, kp_df, labels_df = load_kpm_data(gold_data_dir, subset=\"train\")"
   ],
   "metadata": {
    "collapsed": false,
    "pycharm": {
     "name": "#%%\n"
    }
   }
  },
  {
   "cell_type": "markdown",
   "source": [
    "## Arguments training data"
   ],
   "metadata": {
    "collapsed": false,
    "pycharm": {
     "name": "#%% md\n"
    }
   }
  },
  {
   "cell_type": "code",
   "execution_count": 34,
   "outputs": [
    {
     "data": {
      "text/plain": "          arg_id                                           argument  \\\n1818  arg_10_180  libertarianism maximizes personal freedom and ...   \n2968  arg_16_131  mandatory retirement removes experienced perso...   \n1061   arg_5_101  we should not abolish capital punishment becau...   \n\n                                     topic  stance  \n1818        We should adopt libertarianism       1  \n2968    We should end mandatory retirement       1  \n1061  We should abolish capital punishment      -1  ",
      "text/html": "<div>\n<style scoped>\n    .dataframe tbody tr th:only-of-type {\n        vertical-align: middle;\n    }\n\n    .dataframe tbody tr th {\n        vertical-align: top;\n    }\n\n    .dataframe thead th {\n        text-align: right;\n    }\n</style>\n<table border=\"1\" class=\"dataframe\">\n  <thead>\n    <tr style=\"text-align: right;\">\n      <th></th>\n      <th>arg_id</th>\n      <th>argument</th>\n      <th>topic</th>\n      <th>stance</th>\n    </tr>\n  </thead>\n  <tbody>\n    <tr>\n      <th>1818</th>\n      <td>arg_10_180</td>\n      <td>libertarianism maximizes personal freedom and ...</td>\n      <td>We should adopt libertarianism</td>\n      <td>1</td>\n    </tr>\n    <tr>\n      <th>2968</th>\n      <td>arg_16_131</td>\n      <td>mandatory retirement removes experienced perso...</td>\n      <td>We should end mandatory retirement</td>\n      <td>1</td>\n    </tr>\n    <tr>\n      <th>1061</th>\n      <td>arg_5_101</td>\n      <td>we should not abolish capital punishment becau...</td>\n      <td>We should abolish capital punishment</td>\n      <td>-1</td>\n    </tr>\n  </tbody>\n</table>\n</div>"
     },
     "execution_count": 34,
     "metadata": {},
     "output_type": "execute_result"
    }
   ],
   "source": [
    "arg_df.sample(3)"
   ],
   "metadata": {
    "collapsed": false,
    "pycharm": {
     "name": "#%%\n"
    }
   }
  },
  {
   "cell_type": "code",
   "execution_count": 35,
   "outputs": [
    {
     "data": {
      "text/plain": "    arg_id                                           argument  \\\n0  arg_0_0  `people reach their limit when it comes to the...   \n1  arg_0_1  A patient should be able to decide when they h...   \n2  arg_0_2  a person has the right to end their suffering ...   \n\n                                           topic  stance  \n0  Assisted suicide should be a criminal offence      -1  \n1  Assisted suicide should be a criminal offence      -1  \n2  Assisted suicide should be a criminal offence      -1  ",
      "text/html": "<div>\n<style scoped>\n    .dataframe tbody tr th:only-of-type {\n        vertical-align: middle;\n    }\n\n    .dataframe tbody tr th {\n        vertical-align: top;\n    }\n\n    .dataframe thead th {\n        text-align: right;\n    }\n</style>\n<table border=\"1\" class=\"dataframe\">\n  <thead>\n    <tr style=\"text-align: right;\">\n      <th></th>\n      <th>arg_id</th>\n      <th>argument</th>\n      <th>topic</th>\n      <th>stance</th>\n    </tr>\n  </thead>\n  <tbody>\n    <tr>\n      <th>0</th>\n      <td>arg_0_0</td>\n      <td>`people reach their limit when it comes to the...</td>\n      <td>Assisted suicide should be a criminal offence</td>\n      <td>-1</td>\n    </tr>\n    <tr>\n      <th>1</th>\n      <td>arg_0_1</td>\n      <td>A patient should be able to decide when they h...</td>\n      <td>Assisted suicide should be a criminal offence</td>\n      <td>-1</td>\n    </tr>\n    <tr>\n      <th>2</th>\n      <td>arg_0_2</td>\n      <td>a person has the right to end their suffering ...</td>\n      <td>Assisted suicide should be a criminal offence</td>\n      <td>-1</td>\n    </tr>\n  </tbody>\n</table>\n</div>"
     },
     "execution_count": 35,
     "metadata": {},
     "output_type": "execute_result"
    }
   ],
   "source": [
    "arg_df.head(3)"
   ],
   "metadata": {
    "collapsed": false,
    "pycharm": {
     "name": "#%%\n"
    }
   }
  },
  {
   "cell_type": "code",
   "execution_count": 45,
   "outputs": [
    {
     "data": {
      "text/plain": "          arg_id                                           argument  \\\n5580  arg_27_220  While many who graduate from universities stru...   \n5581  arg_27_221  with the rising cost of college tuition vocati...   \n5582  arg_27_222  yes, we should subsidize vocational education ...   \n\n                                         topic  stance  \n5580  We should subsidize vocational education       1  \n5581  We should subsidize vocational education       1  \n5582  We should subsidize vocational education       1  ",
      "text/html": "<div>\n<style scoped>\n    .dataframe tbody tr th:only-of-type {\n        vertical-align: middle;\n    }\n\n    .dataframe tbody tr th {\n        vertical-align: top;\n    }\n\n    .dataframe thead th {\n        text-align: right;\n    }\n</style>\n<table border=\"1\" class=\"dataframe\">\n  <thead>\n    <tr style=\"text-align: right;\">\n      <th></th>\n      <th>arg_id</th>\n      <th>argument</th>\n      <th>topic</th>\n      <th>stance</th>\n    </tr>\n  </thead>\n  <tbody>\n    <tr>\n      <th>5580</th>\n      <td>arg_27_220</td>\n      <td>While many who graduate from universities stru...</td>\n      <td>We should subsidize vocational education</td>\n      <td>1</td>\n    </tr>\n    <tr>\n      <th>5581</th>\n      <td>arg_27_221</td>\n      <td>with the rising cost of college tuition vocati...</td>\n      <td>We should subsidize vocational education</td>\n      <td>1</td>\n    </tr>\n    <tr>\n      <th>5582</th>\n      <td>arg_27_222</td>\n      <td>yes, we should subsidize vocational education ...</td>\n      <td>We should subsidize vocational education</td>\n      <td>1</td>\n    </tr>\n  </tbody>\n</table>\n</div>"
     },
     "execution_count": 45,
     "metadata": {},
     "output_type": "execute_result"
    }
   ],
   "source": [
    "arg_df.tail(3)"
   ],
   "metadata": {
    "collapsed": false,
    "pycharm": {
     "name": "#%%\n"
    }
   }
  },
  {
   "cell_type": "code",
   "execution_count": 20,
   "outputs": [
    {
     "data": {
      "text/plain": "'The number of topics: 24'"
     },
     "execution_count": 20,
     "metadata": {},
     "output_type": "execute_result"
    }
   ],
   "source": [
    "f\"The number of topics: {len(set(arg_df.topic))}\""
   ],
   "metadata": {
    "collapsed": false,
    "pycharm": {
     "name": "#%%\n"
    }
   }
  },
  {
   "cell_type": "code",
   "execution_count": 39,
   "outputs": [
    {
     "data": {
      "text/plain": "'The number of arguments: 5583'"
     },
     "execution_count": 39,
     "metadata": {},
     "output_type": "execute_result"
    }
   ],
   "source": [
    "f\"The number of arguments: {len(set(arg_df.argument))}\""
   ],
   "metadata": {
    "collapsed": false,
    "pycharm": {
     "name": "#%%\n"
    }
   }
  },
  {
   "cell_type": "code",
   "execution_count": 23,
   "outputs": [
    {
     "data": {
      "text/plain": "'Have duplicated argument: False'"
     },
     "execution_count": 23,
     "metadata": {},
     "output_type": "execute_result"
    }
   ],
   "source": [
    "f\"Have duplicated argument: {len(set(arg_df.argument)) != len(arg_df)}\""
   ],
   "metadata": {
    "collapsed": false,
    "pycharm": {
     "name": "#%%\n"
    }
   }
  },
  {
   "cell_type": "code",
   "execution_count": 32,
   "outputs": [
    {
     "data": {
      "text/plain": "Counter({-1: 2700, 1: 2883})"
     },
     "execution_count": 32,
     "metadata": {},
     "output_type": "execute_result"
    }
   ],
   "source": [
    "counter = Counter(arg_df['stance'])\n",
    "counter"
   ],
   "metadata": {
    "collapsed": false,
    "pycharm": {
     "name": "#%%\n"
    }
   }
  },
  {
   "cell_type": "code",
   "execution_count": null,
   "outputs": [],
   "source": [
    "ratios = []\n",
    "for topic in set(arg_df.topic):\n",
    "    _stance = kp_df[kp_df.topic == topic].stance\n",
    "    _counter = Counter(_stance)\n",
    "    _counter_val = list(_counter.values())\n",
    "    ratios.append(_counter_val[0]/_counter_val[1])"
   ],
   "metadata": {
    "collapsed": false,
    "pycharm": {
     "name": "#%%\n"
    }
   }
  },
  {
   "cell_type": "markdown",
   "source": [
    "## Key points training data"
   ],
   "metadata": {
    "collapsed": false,
    "pycharm": {
     "name": "#%% md\n"
    }
   }
  },
  {
   "cell_type": "code",
   "execution_count": 36,
   "outputs": [
    {
     "data": {
      "text/plain": "    key_point_id                                          key_point  \\\n131      kp_19_1                  Citizens have a right not to vote   \n199      kp_27_0  subsidizing vocational education leads to an i...   \n180      kp_24_8  Women in combat can be a distraction or harm t...   \n\n                                        topic  stance  \n131     We should introduce compulsory voting      -1  \n199  We should subsidize vocational education      -1  \n180        We should prohibit women in combat       1  ",
      "text/html": "<div>\n<style scoped>\n    .dataframe tbody tr th:only-of-type {\n        vertical-align: middle;\n    }\n\n    .dataframe tbody tr th {\n        vertical-align: top;\n    }\n\n    .dataframe thead th {\n        text-align: right;\n    }\n</style>\n<table border=\"1\" class=\"dataframe\">\n  <thead>\n    <tr style=\"text-align: right;\">\n      <th></th>\n      <th>key_point_id</th>\n      <th>key_point</th>\n      <th>topic</th>\n      <th>stance</th>\n    </tr>\n  </thead>\n  <tbody>\n    <tr>\n      <th>131</th>\n      <td>kp_19_1</td>\n      <td>Citizens have a right not to vote</td>\n      <td>We should introduce compulsory voting</td>\n      <td>-1</td>\n    </tr>\n    <tr>\n      <th>199</th>\n      <td>kp_27_0</td>\n      <td>subsidizing vocational education leads to an i...</td>\n      <td>We should subsidize vocational education</td>\n      <td>-1</td>\n    </tr>\n    <tr>\n      <th>180</th>\n      <td>kp_24_8</td>\n      <td>Women in combat can be a distraction or harm t...</td>\n      <td>We should prohibit women in combat</td>\n      <td>1</td>\n    </tr>\n  </tbody>\n</table>\n</div>"
     },
     "execution_count": 36,
     "metadata": {},
     "output_type": "execute_result"
    }
   ],
   "source": [
    "kp_df.sample(3)"
   ],
   "metadata": {
    "collapsed": false,
    "pycharm": {
     "name": "#%%\n"
    }
   }
  },
  {
   "cell_type": "code",
   "execution_count": 43,
   "outputs": [
    {
     "data": {
      "text/plain": "'arg_df and kp_df have the same number of topics: True'"
     },
     "execution_count": 43,
     "metadata": {},
     "output_type": "execute_result"
    }
   ],
   "source": [
    "f\"arg_df and kp_df have the same number of topics: {len(set(kp_df.topic)) == len(set(arg_df.topic))}\""
   ],
   "metadata": {
    "collapsed": false,
    "pycharm": {
     "name": "#%%\n"
    }
   }
  },
  {
   "cell_type": "code",
   "execution_count": 46,
   "outputs": [
    {
     "data": {
      "text/plain": "'Have duplicated key point: False'"
     },
     "execution_count": 46,
     "metadata": {},
     "output_type": "execute_result"
    }
   ],
   "source": [
    "f\"Have duplicated key point: {len(set(kp_df.key_point)) != len(kp_df.key_point)}\""
   ],
   "metadata": {
    "collapsed": false,
    "pycharm": {
     "name": "#%%\n"
    }
   }
  },
  {
   "cell_type": "code",
   "execution_count": 48,
   "outputs": [
    {
     "data": {
      "text/plain": "Counter({-1: 99, 1: 108})"
     },
     "execution_count": 48,
     "metadata": {},
     "output_type": "execute_result"
    }
   ],
   "source": [
    "counter = Counter(kp_df['stance'])\n",
    "counter"
   ],
   "metadata": {
    "collapsed": false,
    "pycharm": {
     "name": "#%%\n"
    }
   }
  },
  {
   "cell_type": "code",
   "execution_count": 64,
   "outputs": [],
   "source": [
    "ratios = []\n",
    "for topic in set(kp_df.topic):\n",
    "    _stance = kp_df[kp_df.topic == topic].stance\n",
    "    _counter = Counter(_stance)\n",
    "    _counter_val = list(_counter.values())\n",
    "    ratios.append(_counter_val[0]/_counter_val[1])"
   ],
   "metadata": {
    "collapsed": false,
    "pycharm": {
     "name": "#%%\n"
    }
   }
  },
  {
   "cell_type": "code",
   "execution_count": 68,
   "outputs": [
    {
     "data": {
      "text/plain": "(array([3., 0., 2., 7., 0., 4., 0., 6., 1., 1.]),\n array([0.4 , 0.51, 0.62, 0.73, 0.84, 0.95, 1.06, 1.17, 1.28, 1.39, 1.5 ]),\n <BarContainer object of 10 artists>)"
     },
     "execution_count": 68,
     "metadata": {},
     "output_type": "execute_result"
    },
    {
     "data": {
      "text/plain": "<Figure size 432x288 with 1 Axes>",
      "image/png": "[encoded data removed]"
     },
     "metadata": {
      "needs_background": "light"
     },
     "output_type": "display_data"
    }
   ],
   "source": [
    "plt.hist(ratios)"
   ],
   "metadata": {
    "collapsed": false,
    "pycharm": {
     "name": "#%%\n"
    }
   }
  },
  {
   "cell_type": "code",
   "execution_count": null,
   "outputs": [],
   "source": [],
   "metadata": {
    "collapsed": false,
    "pycharm": {
     "name": "#%%\n"
    }
   }
  }
 ],
 "metadata": {
  "kernelspec": {
   "display_name": "Python 3",
   "language": "python",
   "name": "python3"
  },
  "language_info": {
   "codemirror_mode": {
    "name": "ipython",
    "version": 2
   },
   "file_extension": ".py",
   "mimetype": "text/x-python",
   "name": "python",
   "nbconvert_exporter": "python",
   "pygments_lexer": "ipython2",
   "version": "2.7.6"
  }
 },
 "nbformat": 4,
 "nbformat_minor": 0
}