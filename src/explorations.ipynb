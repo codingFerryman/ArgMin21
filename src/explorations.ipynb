{
 "cells": [
  {
   "cell_type": "code",
   "execution_count": 25,
   "metadata": {
    "collapsed": true
   },
   "outputs": [],
   "source": [
    "import pandas as pd\n",
    "from pathlib import Path\n",
    "from collections import Counter\n",
    "import matplotlib.pyplot as plt\n",
    "from transformers import AutoTokenizer"
   ]
  },
  {
   "cell_type": "code",
   "execution_count": 2,
   "outputs": [],
   "source": [
    "from utils import generate_combined_df"
   ],
   "metadata": {
    "collapsed": false,
    "pycharm": {
     "name": "#%%\n"
    }
   }
  },
  {
   "cell_type": "code",
   "execution_count": 3,
   "outputs": [],
   "source": [
    "train_df = generate_combined_df(subset=\"train\")\n",
    "dev_df = generate_combined_df(subset=\"dev\")\n",
    "fit_df = pd.concat([train_df, dev_df]).drop_duplicates()"
   ],
   "metadata": {
    "collapsed": false,
    "pycharm": {
     "name": "#%%\n"
    }
   }
  },
  {
   "cell_type": "code",
   "execution_count": 26,
   "outputs": [],
   "source": [
    "tokenizer = AutoTokenizer.from_pretrained('roberta-base')"
   ],
   "metadata": {
    "collapsed": false,
    "pycharm": {
     "name": "#%%\n"
    }
   }
  },
  {
   "cell_type": "markdown",
   "source": [
    "## Arguments training data"
   ],
   "metadata": {
    "collapsed": false,
    "pycharm": {
     "name": "#%% md\n"
    }
   }
  },
  {
   "cell_type": "code",
   "execution_count": 5,
   "outputs": [
    {
     "name": "stdout",
     "output_type": "stream",
     "text": [
      "<class 'pandas.core.frame.DataFrame'>\n",
      "Int64Index: 24093 entries, 0 to 3457\n",
      "Data columns (total 7 columns):\n",
      " #   Column        Non-Null Count  Dtype \n",
      "---  ------        --------------  ----- \n",
      " 0   arg_id        24093 non-null  object\n",
      " 1   argument      24093 non-null  object\n",
      " 2   key_point_id  24093 non-null  object\n",
      " 3   key_point     24093 non-null  object\n",
      " 4   topic         24093 non-null  object\n",
      " 5   stance        24093 non-null  int64 \n",
      " 6   label         24093 non-null  int64 \n",
      "dtypes: int64(2), object(5)\n",
      "memory usage: 1.5+ MB\n"
     ]
    }
   ],
   "source": [
    "fit_df.info()"
   ],
   "metadata": {
    "collapsed": false,
    "pycharm": {
     "name": "#%%\n"
    }
   }
  },
  {
   "cell_type": "code",
   "execution_count": 6,
   "outputs": [
    {
     "data": {
      "text/plain": "'The number of topics: 28'"
     },
     "execution_count": 6,
     "metadata": {},
     "output_type": "execute_result"
    }
   ],
   "source": [
    "f\"The number of topics: {len(set(fit_df.topic))}\""
   ],
   "metadata": {
    "collapsed": false,
    "pycharm": {
     "name": "#%%\n"
    }
   }
  },
  {
   "cell_type": "code",
   "execution_count": 7,
   "outputs": [
    {
     "data": {
      "text/plain": "'The number of arguments: 6515'"
     },
     "execution_count": 7,
     "metadata": {},
     "output_type": "execute_result"
    }
   ],
   "source": [
    "f\"The number of arguments: {len(set(fit_df.argument))}\""
   ],
   "metadata": {
    "collapsed": false,
    "pycharm": {
     "name": "#%%\n"
    }
   }
  },
  {
   "cell_type": "code",
   "execution_count": 8,
   "outputs": [
    {
     "data": {
      "text/plain": "'The number of keypoints: 243'"
     },
     "execution_count": 8,
     "metadata": {},
     "output_type": "execute_result"
    }
   ],
   "source": [
    "f\"The number of keypoints: {len(set(fit_df.key_point_id))}\""
   ],
   "metadata": {
    "collapsed": false,
    "pycharm": {
     "name": "#%%\n"
    }
   }
  },
  {
   "cell_type": "code",
   "execution_count": 9,
   "outputs": [
    {
     "name": "stdout",
     "output_type": "stream",
     "text": [
      "Have duplicated argument: True\n",
      "Have duplicated keypoint: True\n",
      "Have duplicated topic: True\n"
     ]
    }
   ],
   "source": [
    "print(f\"Have duplicated argument: {len(set(fit_df.argument)) != len(fit_df)}\")\n",
    "print(f\"Have duplicated keypoint: {len(set(fit_df.key_point)) != len(fit_df)}\")\n",
    "print(f\"Have duplicated topic: {len(set(fit_df.topic)) != len(fit_df)}\")\n"
   ],
   "metadata": {
    "collapsed": false,
    "pycharm": {
     "name": "#%%\n"
    }
   }
  },
  {
   "cell_type": "code",
   "execution_count": 10,
   "outputs": [
    {
     "data": {
      "text/plain": "Counter({0: 19095, 1: 4998})"
     },
     "execution_count": 10,
     "metadata": {},
     "output_type": "execute_result"
    }
   ],
   "source": [
    "counter = Counter(fit_df['label'])\n",
    "counter"
   ],
   "metadata": {
    "collapsed": false,
    "pycharm": {
     "name": "#%%\n"
    }
   }
  },
  {
   "cell_type": "code",
   "execution_count": 11,
   "outputs": [],
   "source": [
    "pos_ratios = []\n",
    "for topic in set(fit_df.topic):\n",
    "    _stance = fit_df[fit_df.topic == topic].stance\n",
    "    _counter = Counter(_stance)\n",
    "    _counter_sorted = sorted(_counter.items())\n",
    "    pos_ratios.append(_counter_sorted[1][1]/_counter_sorted[0][1])"
   ],
   "metadata": {
    "collapsed": false,
    "pycharm": {
     "name": "#%%\n"
    }
   }
  },
  {
   "cell_type": "code",
   "execution_count": 12,
   "outputs": [
    {
     "data": {
      "text/plain": "<Figure size 576x576 with 1 Axes>",
      "image/png": "[encoded data removed]"
     },
     "metadata": {
      "needs_background": "light"
     },
     "output_type": "display_data"
    }
   ],
   "source": [
    "fig = plt.figure(figsize=(8,8))\n",
    "plt.hist(pos_ratios, rwidth=0.9)\n",
    "plt.title(\"Positive stance ratio on specific topics\")\n",
    "plt.show()"
   ],
   "metadata": {
    "collapsed": false,
    "pycharm": {
     "name": "#%%\n"
    }
   }
  },
  {
   "cell_type": "markdown",
   "source": [
    "## Length"
   ],
   "metadata": {
    "collapsed": false,
    "pycharm": {
     "name": "#%% md\n"
    }
   }
  },
  {
   "cell_type": "code",
   "execution_count": 53,
   "outputs": [
    {
     "data": {
      "text/plain": "[1, 2, 3, 4, 5, 6]"
     },
     "execution_count": 53,
     "metadata": {},
     "output_type": "execute_result"
    }
   ],
   "source": [],
   "metadata": {
    "collapsed": false,
    "pycharm": {
     "name": "#%%\n"
    }
   }
  },
  {
   "cell_type": "code",
   "execution_count": 28,
   "outputs": [],
   "source": [
    "argu_length = []\n",
    "for argu in set(fit_df.argument):\n",
    "    _len = len(argu.split(' '))\n",
    "    argu_length.append(_len)"
   ],
   "metadata": {
    "collapsed": false,
    "pycharm": {
     "name": "#%%\n"
    }
   }
  },
  {
   "cell_type": "code",
   "execution_count": 29,
   "outputs": [],
   "source": [
    "argu_tk_length = []\n",
    "for argu in set(fit_df.argument):\n",
    "    _len = len(tokenizer.tokenize(argu))\n",
    "    argu_tk_length.append(_len)"
   ],
   "metadata": {
    "collapsed": false,
    "pycharm": {
     "name": "#%%\n"
    }
   }
  },
  {
   "cell_type": "code",
   "execution_count": 30,
   "outputs": [],
   "source": [
    "topic_length = []\n",
    "for topic in set(fit_df.topic):\n",
    "    _len = len(topic.split(' '))\n",
    "    topic_length.append(_len)"
   ],
   "metadata": {
    "collapsed": false,
    "pycharm": {
     "name": "#%%\n"
    }
   }
  },
  {
   "cell_type": "code",
   "execution_count": 31,
   "outputs": [],
   "source": [
    "topic_tk_length = []\n",
    "for tp in set(fit_df.topic):\n",
    "    _len = len(tokenizer.tokenize(tp))\n",
    "    topic_tk_length.append(_len)"
   ],
   "metadata": {
    "collapsed": false,
    "pycharm": {
     "name": "#%%\n"
    }
   }
  },
  {
   "cell_type": "code",
   "execution_count": 32,
   "outputs": [],
   "source": [
    "kp_length = []\n",
    "for kp in set(fit_df.key_point):\n",
    "    _len = len(kp.split(' '))\n",
    "    kp_length.append(_len)"
   ],
   "metadata": {
    "collapsed": false,
    "pycharm": {
     "name": "#%%\n"
    }
   }
  },
  {
   "cell_type": "code",
   "execution_count": 33,
   "outputs": [],
   "source": [
    "kp_tk_length = []\n",
    "for kp in set(fit_df.key_point):\n",
    "    _len = len(tokenizer.tokenize(kp))\n",
    "    kp_tk_length.append(_len)"
   ],
   "metadata": {
    "collapsed": false,
    "pycharm": {
     "name": "#%%\n"
    }
   }
  },
  {
   "cell_type": "code",
   "execution_count": 54,
   "outputs": [],
   "source": [
    "pair_tk_len = [sum(x) for x in zip(argu_tk_length, topic_tk_length)]\n",
    "pair_len = [sum(x) for x in zip(argu_length, topic_length)]\n"
   ],
   "metadata": {
    "collapsed": false,
    "pycharm": {
     "name": "#%%\n"
    }
   }
  },
  {
   "cell_type": "code",
   "execution_count": 55,
   "outputs": [
    {
     "data": {
      "text/plain": "<Figure size 1512x504 with 9 Axes>",
      "image/png": "[encoded data removed]"
     },
     "metadata": {
      "needs_background": "light"
     },
     "output_type": "display_data"
    }
   ],
   "source": [
    "fig, axs = plt.subplots(3, 3, figsize=(21,7))\n",
    "axs.ravel()\n",
    "\n",
    "axs[0,0].hist(argu_length, rwidth=0.9)\n",
    "axs[0,0].set_title(\"Number of argument words\")\n",
    "\n",
    "axs[0, 1].hist(topic_length, rwidth=0.9)\n",
    "axs[0, 1].set_title(\"Number of topic words\")\n",
    "\n",
    "axs[0, 2].hist(kp_length, rwidth=0.9)\n",
    "axs[0, 2].set_title(\"Number of key point words\")\n",
    "\n",
    "axs[1, 0].hist(argu_tk_length, rwidth=0.9)\n",
    "axs[1, 0].set_title(\"Number of argument tokens\")\n",
    "\n",
    "axs[1, 1].hist(topic_tk_length, rwidth=0.9)\n",
    "axs[1, 1].set_title(\"Number of topic tokens\")\n",
    "\n",
    "axs[1, 2].hist(kp_tk_length, rwidth=0.9)\n",
    "axs[1, 2].set_title(\"Number of key point tokens\")\n",
    "\n",
    "axs[2, 0].hist(pair_len, rwidth=0.9)\n",
    "axs[2, 0].set_title(\"Number of pair words\")\n",
    "\n",
    "axs[2, 1].hist(pair_tk_len, rwidth=0.9)\n",
    "axs[2, 1].set_title(\"Number of pair tokens\")\n",
    "\n",
    "\n",
    "plt.show()"
   ],
   "metadata": {
    "collapsed": false,
    "pycharm": {
     "name": "#%%\n"
    }
   }
  },
  {
   "cell_type": "code",
   "execution_count": 56,
   "outputs": [
    {
     "data": {
      "text/plain": "41"
     },
     "execution_count": 56,
     "metadata": {},
     "output_type": "execute_result"
    }
   ],
   "source": [
    "max(pair_tk_len)"
   ],
   "metadata": {
    "collapsed": false,
    "pycharm": {
     "name": "#%%\n"
    }
   }
  },
  {
   "cell_type": "markdown",
   "source": [
    "## Label distribution over different columns"
   ],
   "metadata": {
    "collapsed": false,
    "pycharm": {
     "name": "#%% md\n"
    }
   }
  },
  {
   "cell_type": "code",
   "execution_count": 18,
   "outputs": [
    {
     "data": {
      "text/plain": "label    0.204462\ndtype: float64"
     },
     "execution_count": 18,
     "metadata": {},
     "output_type": "execute_result"
    }
   ],
   "source": [
    "fit_df[['arg_id', 'label']].groupby('arg_id').mean().std()"
   ],
   "metadata": {
    "collapsed": false,
    "pycharm": {
     "name": "#%%\n"
    }
   }
  },
  {
   "cell_type": "code",
   "execution_count": 17,
   "outputs": [
    {
     "data": {
      "text/plain": "label    0.208997\ndtype: float64"
     },
     "execution_count": 17,
     "metadata": {},
     "output_type": "execute_result"
    }
   ],
   "source": [
    "fit_df[['key_point_id', 'label']].groupby('key_point_id').mean().std()"
   ],
   "metadata": {
    "collapsed": false,
    "pycharm": {
     "name": "#%%\n"
    }
   }
  },
  {
   "cell_type": "code",
   "execution_count": 16,
   "outputs": [
    {
     "data": {
      "text/plain": "label    0.093498\ndtype: float64"
     },
     "execution_count": 16,
     "metadata": {},
     "output_type": "execute_result"
    }
   ],
   "source": [
    "fit_df[['topic', 'label']].groupby('topic').mean().std()"
   ],
   "metadata": {
    "collapsed": false,
    "pycharm": {
     "name": "#%%\n"
    }
   }
  },
  {
   "cell_type": "code",
   "execution_count": null,
   "outputs": [],
   "source": [],
   "metadata": {
    "collapsed": false,
    "pycharm": {
     "name": "#%%\n"
    }
   }
  }
 ],
 "metadata": {
  "kernelspec": {
   "display_name": "Python 3",
   "language": "python",
   "name": "python3"
  },
  "language_info": {
   "codemirror_mode": {
    "name": "ipython",
    "version": 2
   },
   "file_extension": ".py",
   "mimetype": "text/x-python",
   "name": "python",
   "nbconvert_exporter": "python",
   "pygments_lexer": "ipython2",
   "version": "2.7.6"
  }
 },
 "nbformat": 4,
 "nbformat_minor": 0
}