{
 "cells": [
  {
   "cell_type": "code",
   "execution_count": 5,
   "metadata": {
    "collapsed": true
   },
   "outputs": [],
   "source": [
    "import pandas as pd\n",
    "from pathlib import Path\n",
    "from collections import Counter\n",
    "import matplotlib.pyplot as plt"
   ]
  },
  {
   "cell_type": "code",
   "execution_count": 6,
   "outputs": [],
   "source": [
    "from data.code.track_1_kp_matching import load_kpm_data\n",
    "from utils import get_data_path"
   ],
   "metadata": {
    "collapsed": false,
    "pycharm": {
     "name": "#%%\n"
    }
   }
  },
  {
   "cell_type": "code",
   "execution_count": 7,
   "outputs": [],
   "source": [
    "gold_data_dir = Path(get_data_path(), 'kpm_data')"
   ],
   "metadata": {
    "collapsed": false,
    "pycharm": {
     "name": "#%%\n"
    }
   }
  },
  {
   "cell_type": "code",
   "execution_count": 8,
   "outputs": [
    {
     "name": "stdout",
     "output_type": "stream",
     "text": [
      "\n",
      "ֿ** loading task data:\n",
      "\t(-1, 'Assisted suicide should be a criminal offence'): loaded 121 arguments and 4 key points\n",
      "\t(-1, 'Homeschooling should be banned'): loaded 129 arguments and 6 key points\n",
      "\t(-1, 'The vow of celibacy should be abandoned'): loaded 112 arguments and 6 key points\n",
      "\t(-1, 'We should abandon marriage'): loaded 111 arguments and 5 key points\n",
      "\t(-1, 'We should abolish capital punishment'): loaded 110 arguments and 5 key points\n",
      "\t(-1, 'We should abolish intellectual property rights'): loaded 123 arguments and 4 key points\n",
      "\t(-1, 'We should adopt atheism'): loaded 123 arguments and 3 key points\n",
      "\t(-1, 'We should adopt libertarianism'): loaded 113 arguments and 5 key points\n",
      "\t(-1, 'We should ban human cloning'): loaded 123 arguments and 5 key points\n",
      "\t(-1, 'We should ban private military companies'): loaded 106 arguments and 4 key points\n",
      "\t(-1, 'We should ban the use of child actors'): loaded 121 arguments and 5 key points\n",
      "\t(-1, 'We should close Guantanamo Bay detention camp'): loaded 113 arguments and 3 key points\n",
      "\t(-1, 'We should end mandatory retirement'): loaded 78 arguments and 2 key points\n",
      "\t(-1, 'We should fight for the abolition of nuclear weapons'): loaded 80 arguments and 1 key points\n",
      "\t(-1, 'We should fight urbanization'): loaded 106 arguments and 3 key points\n",
      "\t(-1, 'We should introduce compulsory voting'): loaded 129 arguments and 4 key points\n",
      "\t(-1, 'We should legalize cannabis'): loaded 109 arguments and 5 key points\n",
      "\t(-1, 'We should legalize prostitution'): loaded 99 arguments and 4 key points\n",
      "\t(-1, 'We should legalize sex selection'): loaded 126 arguments and 6 key points\n",
      "\t(-1, 'We should prohibit flag burning'): loaded 118 arguments and 2 key points\n",
      "\t(-1, 'We should prohibit women in combat'): loaded 130 arguments and 6 key points\n",
      "\t(-1, 'We should subsidize journalism'): loaded 110 arguments and 3 key points\n",
      "\t(-1, 'We should subsidize space exploration'): loaded 115 arguments and 4 key points\n",
      "\t(-1, 'We should subsidize vocational education'): loaded 95 arguments and 4 key points\n",
      "\t(1, 'Assisted suicide should be a criminal offence'): loaded 125 arguments and 6 key points\n",
      "\t(1, 'Homeschooling should be banned'): loaded 115 arguments and 4 key points\n",
      "\t(1, 'The vow of celibacy should be abandoned'): loaded 122 arguments and 5 key points\n",
      "\t(1, 'We should abandon marriage'): loaded 125 arguments and 4 key points\n",
      "\t(1, 'We should abolish capital punishment'): loaded 126 arguments and 5 key points\n",
      "\t(1, 'We should abolish intellectual property rights'): loaded 91 arguments and 6 key points\n",
      "\t(1, 'We should adopt atheism'): loaded 105 arguments and 4 key points\n",
      "\t(1, 'We should adopt libertarianism'): loaded 124 arguments and 4 key points\n",
      "\t(1, 'We should ban human cloning'): loaded 122 arguments and 4 key points\n",
      "\t(1, 'We should ban private military companies'): loaded 126 arguments and 5 key points\n",
      "\t(1, 'We should ban the use of child actors'): loaded 123 arguments and 5 key points\n",
      "\t(1, 'We should close Guantanamo Bay detention camp'): loaded 128 arguments and 6 key points\n",
      "\t(1, 'We should end mandatory retirement'): loaded 122 arguments and 5 key points\n",
      "\t(1, 'We should fight for the abolition of nuclear weapons'): loaded 116 arguments and 2 key points\n",
      "\t(1, 'We should fight urbanization'): loaded 127 arguments and 4 key points\n",
      "\t(1, 'We should introduce compulsory voting'): loaded 115 arguments and 3 key points\n",
      "\t(1, 'We should legalize cannabis'): loaded 137 arguments and 6 key points\n",
      "\t(1, 'We should legalize prostitution'): loaded 132 arguments and 5 key points\n",
      "\t(1, 'We should legalize sex selection'): loaded 118 arguments and 5 key points\n",
      "\t(1, 'We should prohibit flag burning'): loaded 99 arguments and 2 key points\n",
      "\t(1, 'We should prohibit women in combat'): loaded 107 arguments and 5 key points\n",
      "\t(1, 'We should subsidize journalism'): loaded 118 arguments and 4 key points\n",
      "\t(1, 'We should subsidize space exploration'): loaded 132 arguments and 5 key points\n",
      "\t(1, 'We should subsidize vocational education'): loaded 128 arguments and 4 key points\n"
     ]
    }
   ],
   "source": [
    "arg_df, kp_df, labels_df = load_kpm_data(gold_data_dir, subset=\"train\")"
   ],
   "metadata": {
    "collapsed": false,
    "pycharm": {
     "name": "#%%\n"
    }
   }
  },
  {
   "cell_type": "markdown",
   "source": [
    "## Arguments training data"
   ],
   "metadata": {
    "collapsed": false,
    "pycharm": {
     "name": "#%% md\n"
    }
   }
  },
  {
   "cell_type": "code",
   "execution_count": 9,
   "outputs": [
    {
     "data": {
      "text/plain": "          arg_id                                           argument  \\\n0        arg_0_0  `people reach their limit when it comes to the...   \n1        arg_0_1  A patient should be able to decide when they h...   \n2        arg_0_2  a person has the right to end their suffering ...   \n3        arg_0_3  a person should have the dignity to choose how...   \n4        arg_0_4  a person should have the right to be able to c...   \n...          ...                                                ...   \n5578  arg_27_218  we should subsidize vocational education to en...   \n5579  arg_27_219  We should subsidize vocational education to su...   \n5580  arg_27_220  While many who graduate from universities stru...   \n5581  arg_27_221  with the rising cost of college tuition vocati...   \n5582  arg_27_222  yes, we should subsidize vocational education ...   \n\n                                              topic  stance  \n0     Assisted suicide should be a criminal offence      -1  \n1     Assisted suicide should be a criminal offence      -1  \n2     Assisted suicide should be a criminal offence      -1  \n3     Assisted suicide should be a criminal offence      -1  \n4     Assisted suicide should be a criminal offence      -1  \n...                                             ...     ...  \n5578       We should subsidize vocational education       1  \n5579       We should subsidize vocational education       1  \n5580       We should subsidize vocational education       1  \n5581       We should subsidize vocational education       1  \n5582       We should subsidize vocational education       1  \n\n[5583 rows x 4 columns]",
      "text/html": "<div>\n<style scoped>\n    .dataframe tbody tr th:only-of-type {\n        vertical-align: middle;\n    }\n\n    .dataframe tbody tr th {\n        vertical-align: top;\n    }\n\n    .dataframe thead th {\n        text-align: right;\n    }\n</style>\n<table border=\"1\" class=\"dataframe\">\n  <thead>\n    <tr style=\"text-align: right;\">\n      <th></th>\n      <th>arg_id</th>\n      <th>argument</th>\n      <th>topic</th>\n      <th>stance</th>\n    </tr>\n  </thead>\n  <tbody>\n    <tr>\n      <th>0</th>\n      <td>arg_0_0</td>\n      <td>`people reach their limit when it comes to the...</td>\n      <td>Assisted suicide should be a criminal offence</td>\n      <td>-1</td>\n    </tr>\n    <tr>\n      <th>1</th>\n      <td>arg_0_1</td>\n      <td>A patient should be able to decide when they h...</td>\n      <td>Assisted suicide should be a criminal offence</td>\n      <td>-1</td>\n    </tr>\n    <tr>\n      <th>2</th>\n      <td>arg_0_2</td>\n      <td>a person has the right to end their suffering ...</td>\n      <td>Assisted suicide should be a criminal offence</td>\n      <td>-1</td>\n    </tr>\n    <tr>\n      <th>3</th>\n      <td>arg_0_3</td>\n      <td>a person should have the dignity to choose how...</td>\n      <td>Assisted suicide should be a criminal offence</td>\n      <td>-1</td>\n    </tr>\n    <tr>\n      <th>4</th>\n      <td>arg_0_4</td>\n      <td>a person should have the right to be able to c...</td>\n      <td>Assisted suicide should be a criminal offence</td>\n      <td>-1</td>\n    </tr>\n    <tr>\n      <th>...</th>\n      <td>...</td>\n      <td>...</td>\n      <td>...</td>\n      <td>...</td>\n    </tr>\n    <tr>\n      <th>5578</th>\n      <td>arg_27_218</td>\n      <td>we should subsidize vocational education to en...</td>\n      <td>We should subsidize vocational education</td>\n      <td>1</td>\n    </tr>\n    <tr>\n      <th>5579</th>\n      <td>arg_27_219</td>\n      <td>We should subsidize vocational education to su...</td>\n      <td>We should subsidize vocational education</td>\n      <td>1</td>\n    </tr>\n    <tr>\n      <th>5580</th>\n      <td>arg_27_220</td>\n      <td>While many who graduate from universities stru...</td>\n      <td>We should subsidize vocational education</td>\n      <td>1</td>\n    </tr>\n    <tr>\n      <th>5581</th>\n      <td>arg_27_221</td>\n      <td>with the rising cost of college tuition vocati...</td>\n      <td>We should subsidize vocational education</td>\n      <td>1</td>\n    </tr>\n    <tr>\n      <th>5582</th>\n      <td>arg_27_222</td>\n      <td>yes, we should subsidize vocational education ...</td>\n      <td>We should subsidize vocational education</td>\n      <td>1</td>\n    </tr>\n  </tbody>\n</table>\n<p>5583 rows × 4 columns</p>\n</div>"
     },
     "execution_count": 9,
     "metadata": {},
     "output_type": "execute_result"
    }
   ],
   "source": [
    "arg_df"
   ],
   "metadata": {
    "collapsed": false,
    "pycharm": {
     "name": "#%%\n"
    }
   }
  },
  {
   "cell_type": "code",
   "execution_count": 20,
   "outputs": [
    {
     "data": {
      "text/plain": "'The number of topics: 24'"
     },
     "execution_count": 20,
     "metadata": {},
     "output_type": "execute_result"
    }
   ],
   "source": [
    "f\"The number of topics: {len(set(arg_df.topic))}\""
   ],
   "metadata": {
    "collapsed": false,
    "pycharm": {
     "name": "#%%\n"
    }
   }
  },
  {
   "cell_type": "code",
   "execution_count": 39,
   "outputs": [
    {
     "data": {
      "text/plain": "'The number of arguments: 5583'"
     },
     "execution_count": 39,
     "metadata": {},
     "output_type": "execute_result"
    }
   ],
   "source": [
    "f\"The number of arguments: {len(set(arg_df.argument))}\""
   ],
   "metadata": {
    "collapsed": false,
    "pycharm": {
     "name": "#%%\n"
    }
   }
  },
  {
   "cell_type": "code",
   "execution_count": 23,
   "outputs": [
    {
     "data": {
      "text/plain": "'Have duplicated argument: False'"
     },
     "execution_count": 23,
     "metadata": {},
     "output_type": "execute_result"
    }
   ],
   "source": [
    "f\"Have duplicated argument: {len(set(arg_df.argument)) != len(arg_df)}\""
   ],
   "metadata": {
    "collapsed": false,
    "pycharm": {
     "name": "#%%\n"
    }
   }
  },
  {
   "cell_type": "code",
   "execution_count": 32,
   "outputs": [
    {
     "data": {
      "text/plain": "Counter({-1: 2700, 1: 2883})"
     },
     "execution_count": 32,
     "metadata": {},
     "output_type": "execute_result"
    }
   ],
   "source": [
    "counter = Counter(arg_df['stance'])\n",
    "counter"
   ],
   "metadata": {
    "collapsed": false,
    "pycharm": {
     "name": "#%%\n"
    }
   }
  },
  {
   "cell_type": "code",
   "execution_count": 19,
   "outputs": [],
   "source": [
    "pos_ratios = []\n",
    "for topic in set(arg_df.topic):\n",
    "    _stance = kp_df[kp_df.topic == topic].stance\n",
    "    _counter = Counter(_stance)\n",
    "    _counter_sorted = sorted(_counter.items())\n",
    "    pos_ratios.append(_counter_sorted[1][1]/_counter_sorted[0][1])"
   ],
   "metadata": {
    "collapsed": false,
    "pycharm": {
     "name": "#%%\n"
    }
   }
  },
  {
   "cell_type": "code",
   "execution_count": 24,
   "outputs": [
    {
     "data": {
      "text/plain": "<Figure size 576x576 with 1 Axes>",
      "image/png": "[encoded data removed]"
     },
     "metadata": {
      "needs_background": "light"
     },
     "output_type": "display_data"
    }
   ],
   "source": [
    "fig = plt.figure(figsize=(8,8))\n",
    "plt.hist(pos_ratios, rwidth=0.9)\n",
    "plt.title(\"Positive stance ratio on specific topics\")\n",
    "plt.show()"
   ],
   "metadata": {
    "collapsed": false,
    "pycharm": {
     "name": "#%%\n"
    }
   }
  },
  {
   "cell_type": "markdown",
   "source": [
    "## Key points training data"
   ],
   "metadata": {
    "collapsed": false,
    "pycharm": {
     "name": "#%% md\n"
    }
   }
  },
  {
   "cell_type": "code",
   "execution_count": 25,
   "outputs": [
    {
     "data": {
      "text/plain": "    key_point_id                                          key_point  \\\n0         kp_0_0  Assisted suicide gives dignity to the person t...   \n1         kp_0_1                 Assisted suicide reduces suffering   \n2         kp_0_2  People should have the freedom to choose to en...   \n3         kp_0_3  The terminally ill would benefit from assisted...   \n4         kp_0_4  Assisted suicide allows people to solicit some...   \n..           ...                                                ...   \n202      kp_27_3      subsidizing vocational education is expensive   \n203      kp_27_4  subsidizing vocational education promotes thos...   \n204      kp_27_5       vocational education is a good career choice   \n205      kp_27_6     vocational education better fits many students   \n206      kp_27_7  vocational education is beneficial for the ent...   \n\n                                             topic  stance  \n0    Assisted suicide should be a criminal offence      -1  \n1    Assisted suicide should be a criminal offence      -1  \n2    Assisted suicide should be a criminal offence      -1  \n3    Assisted suicide should be a criminal offence      -1  \n4    Assisted suicide should be a criminal offence       1  \n..                                             ...     ...  \n202       We should subsidize vocational education      -1  \n203       We should subsidize vocational education       1  \n204       We should subsidize vocational education       1  \n205       We should subsidize vocational education       1  \n206       We should subsidize vocational education       1  \n\n[207 rows x 4 columns]",
      "text/html": "<div>\n<style scoped>\n    .dataframe tbody tr th:only-of-type {\n        vertical-align: middle;\n    }\n\n    .dataframe tbody tr th {\n        vertical-align: top;\n    }\n\n    .dataframe thead th {\n        text-align: right;\n    }\n</style>\n<table border=\"1\" class=\"dataframe\">\n  <thead>\n    <tr style=\"text-align: right;\">\n      <th></th>\n      <th>key_point_id</th>\n      <th>key_point</th>\n      <th>topic</th>\n      <th>stance</th>\n    </tr>\n  </thead>\n  <tbody>\n    <tr>\n      <th>0</th>\n      <td>kp_0_0</td>\n      <td>Assisted suicide gives dignity to the person t...</td>\n      <td>Assisted suicide should be a criminal offence</td>\n      <td>-1</td>\n    </tr>\n    <tr>\n      <th>1</th>\n      <td>kp_0_1</td>\n      <td>Assisted suicide reduces suffering</td>\n      <td>Assisted suicide should be a criminal offence</td>\n      <td>-1</td>\n    </tr>\n    <tr>\n      <th>2</th>\n      <td>kp_0_2</td>\n      <td>People should have the freedom to choose to en...</td>\n      <td>Assisted suicide should be a criminal offence</td>\n      <td>-1</td>\n    </tr>\n    <tr>\n      <th>3</th>\n      <td>kp_0_3</td>\n      <td>The terminally ill would benefit from assisted...</td>\n      <td>Assisted suicide should be a criminal offence</td>\n      <td>-1</td>\n    </tr>\n    <tr>\n      <th>4</th>\n      <td>kp_0_4</td>\n      <td>Assisted suicide allows people to solicit some...</td>\n      <td>Assisted suicide should be a criminal offence</td>\n      <td>1</td>\n    </tr>\n    <tr>\n      <th>...</th>\n      <td>...</td>\n      <td>...</td>\n      <td>...</td>\n      <td>...</td>\n    </tr>\n    <tr>\n      <th>202</th>\n      <td>kp_27_3</td>\n      <td>subsidizing vocational education is expensive</td>\n      <td>We should subsidize vocational education</td>\n      <td>-1</td>\n    </tr>\n    <tr>\n      <th>203</th>\n      <td>kp_27_4</td>\n      <td>subsidizing vocational education promotes thos...</td>\n      <td>We should subsidize vocational education</td>\n      <td>1</td>\n    </tr>\n    <tr>\n      <th>204</th>\n      <td>kp_27_5</td>\n      <td>vocational education is a good career choice</td>\n      <td>We should subsidize vocational education</td>\n      <td>1</td>\n    </tr>\n    <tr>\n      <th>205</th>\n      <td>kp_27_6</td>\n      <td>vocational education better fits many students</td>\n      <td>We should subsidize vocational education</td>\n      <td>1</td>\n    </tr>\n    <tr>\n      <th>206</th>\n      <td>kp_27_7</td>\n      <td>vocational education is beneficial for the ent...</td>\n      <td>We should subsidize vocational education</td>\n      <td>1</td>\n    </tr>\n  </tbody>\n</table>\n<p>207 rows × 4 columns</p>\n</div>"
     },
     "execution_count": 25,
     "metadata": {},
     "output_type": "execute_result"
    }
   ],
   "source": [
    "kp_df"
   ],
   "metadata": {
    "collapsed": false,
    "pycharm": {
     "name": "#%%\n"
    }
   }
  },
  {
   "cell_type": "code",
   "execution_count": 43,
   "outputs": [
    {
     "data": {
      "text/plain": "'arg_df and kp_df have the same number of topics: True'"
     },
     "execution_count": 43,
     "metadata": {},
     "output_type": "execute_result"
    }
   ],
   "source": [
    "f\"arg_df and kp_df have the same number of topics: {len(set(kp_df.topic)) == len(set(arg_df.topic))}\""
   ],
   "metadata": {
    "collapsed": false,
    "pycharm": {
     "name": "#%%\n"
    }
   }
  },
  {
   "cell_type": "code",
   "execution_count": 46,
   "outputs": [
    {
     "data": {
      "text/plain": "'Have duplicated key point: False'"
     },
     "execution_count": 46,
     "metadata": {},
     "output_type": "execute_result"
    }
   ],
   "source": [
    "f\"Have duplicated key point: {len(set(kp_df.key_point)) != len(kp_df.key_point)}\""
   ],
   "metadata": {
    "collapsed": false,
    "pycharm": {
     "name": "#%%\n"
    }
   }
  },
  {
   "cell_type": "code",
   "execution_count": 48,
   "outputs": [
    {
     "data": {
      "text/plain": "Counter({-1: 99, 1: 108})"
     },
     "execution_count": 48,
     "metadata": {},
     "output_type": "execute_result"
    }
   ],
   "source": [
    "counter = Counter(kp_df['stance'])\n",
    "counter"
   ],
   "metadata": {
    "collapsed": false,
    "pycharm": {
     "name": "#%%\n"
    }
   }
  },
  {
   "cell_type": "code",
   "execution_count": 26,
   "outputs": [],
   "source": [
    "pos_ratios = []\n",
    "for topic in set(kp_df.topic):\n",
    "    _stance = kp_df[kp_df.topic == topic].stance\n",
    "    _counter = Counter(_stance)\n",
    "    _counter_sorted = sorted(_counter.items())\n",
    "    pos_ratios.append(_counter_sorted[1][1]/_counter_sorted[0][1])"
   ],
   "metadata": {
    "collapsed": false,
    "pycharm": {
     "name": "#%%\n"
    }
   }
  },
  {
   "cell_type": "code",
   "execution_count": 27,
   "outputs": [
    {
     "data": {
      "text/plain": "<Figure size 576x576 with 1 Axes>",
      "image/png": "[encoded data removed]"
     },
     "metadata": {
      "needs_background": "light"
     },
     "output_type": "display_data"
    }
   ],
   "source": [
    "fig = plt.figure(figsize=(8,8))\n",
    "plt.hist(pos_ratios, rwidth=0.9)\n",
    "plt.title(\"Positive stance ratio on specific topics\")\n",
    "plt.show()"
   ],
   "metadata": {
    "collapsed": false,
    "pycharm": {
     "name": "#%%\n"
    }
   }
  },
  {
   "cell_type": "markdown",
   "source": [
    "## Length"
   ],
   "metadata": {
    "collapsed": false,
    "pycharm": {
     "name": "#%% md\n"
    }
   }
  },
  {
   "cell_type": "code",
   "execution_count": 33,
   "outputs": [],
   "source": [
    "argu_length = []\n",
    "for argu in set(arg_df.argument):\n",
    "    _len = len(argu.split(' '))\n",
    "    argu_length.append(_len)"
   ],
   "metadata": {
    "collapsed": false,
    "pycharm": {
     "name": "#%%\n"
    }
   }
  },
  {
   "cell_type": "code",
   "execution_count": 37,
   "outputs": [],
   "source": [
    "topic_length = []\n",
    "for topic in set(arg_df.topic):\n",
    "    _len = len(topic.split(' '))\n",
    "    topic_length.append(_len)"
   ],
   "metadata": {
    "collapsed": false,
    "pycharm": {
     "name": "#%%\n"
    }
   }
  },
  {
   "cell_type": "code",
   "execution_count": 38,
   "outputs": [],
   "source": [
    "kp_length = []\n",
    "for kp in set(kp_df.key_point):\n",
    "    _len = len(kp.split(' '))\n",
    "    kp_length.append(_len)"
   ],
   "metadata": {
    "collapsed": false,
    "pycharm": {
     "name": "#%%\n"
    }
   }
  },
  {
   "cell_type": "code",
   "execution_count": 40,
   "outputs": [
    {
     "data": {
      "text/plain": "<Figure size 1512x504 with 3 Axes>",
      "image/png": "[encoded data removed]"
     },
     "metadata": {
      "needs_background": "light"
     },
     "output_type": "display_data"
    }
   ],
   "source": [
    "fig, axs = plt.subplots(1, 3, figsize=(21,7))\n",
    "axs.ravel()\n",
    "\n",
    "axs[0].hist(argu_length, rwidth=0.9)\n",
    "axs[0].set_title(\"Sentence length of arguments\")\n",
    "\n",
    "axs[1].hist(topic_length, rwidth=0.9)\n",
    "axs[1].set_title(\"Sentence length of topics\")\n",
    "\n",
    "axs[2].hist(kp_length, rwidth=0.9)\n",
    "axs[2].set_title(\"Sentence length of key points\")\n",
    "\n",
    "plt.show()"
   ],
   "metadata": {
    "collapsed": false,
    "pycharm": {
     "name": "#%%\n"
    }
   }
  },
  {
   "cell_type": "code",
   "execution_count": null,
   "outputs": [],
   "source": [],
   "metadata": {
    "collapsed": false,
    "pycharm": {
     "name": "#%%\n"
    }
   }
  }
 ],
 "metadata": {
  "kernelspec": {
   "display_name": "Python 3",
   "language": "python",
   "name": "python3"
  },
  "language_info": {
   "codemirror_mode": {
    "name": "ipython",
    "version": 2
   },
   "file_extension": ".py",
   "mimetype": "text/x-python",
   "name": "python",
   "nbconvert_exporter": "python",
   "pygments_lexer": "ipython2",
   "version": "2.7.6"
  }
 },
 "nbformat": 4,
 "nbformat_minor": 0
}