{
 "cells": [
  {
   "cell_type": "code",
   "execution_count": 1,
   "metadata": {
    "collapsed": true
   },
   "outputs": [],
   "source": [
    "import pandas as pd\n",
    "from pathlib import Path\n",
    "from collections import Counter\n",
    "import matplotlib.pyplot as plt\n",
    "from transformers import AutoTokenizer"
   ]
  },
  {
   "cell_type": "code",
   "execution_count": 2,
   "metadata": {
    "pycharm": {
     "name": "#%%\n"
    }
   },
   "outputs": [],
   "source": [
    "from utils import generate_combined_df"
   ]
  },
  {
   "cell_type": "code",
   "execution_count": 3,
   "metadata": {
    "pycharm": {
     "name": "#%%\n"
    }
   },
   "outputs": [],
   "source": [
    "train_df = generate_combined_df(subset=\"train\")\n",
    "dev_df = generate_combined_df(subset=\"dev\")\n",
    "fit_df = pd.concat([train_df, dev_df]).drop_duplicates()"
   ]
  },
  {
   "cell_type": "code",
   "execution_count": 4,
   "metadata": {
    "pycharm": {
     "name": "#%%\n"
    }
   },
   "outputs": [],
   "source": [
    "tokenizer = AutoTokenizer.from_pretrained('roberta-base')"
   ]
  },
  {
   "cell_type": "markdown",
   "metadata": {
    "pycharm": {
     "name": "#%% md\n"
    }
   },
   "source": [
    "## Arguments training data"
   ]
  },
  {
   "cell_type": "code",
   "execution_count": 5,
   "metadata": {
    "pycharm": {
     "name": "#%%\n"
    }
   },
   "outputs": [
    {
     "name": "stdout",
     "output_type": "stream",
     "text": [
      "<class 'pandas.core.frame.DataFrame'>\n",
      "Int64Index: 24093 entries, 0 to 3457\n",
      "Data columns (total 7 columns):\n",
      " #   Column        Non-Null Count  Dtype \n",
      "---  ------        --------------  ----- \n",
      " 0   arg_id        24093 non-null  object\n",
      " 1   argument      24093 non-null  object\n",
      " 2   key_point_id  24093 non-null  object\n",
      " 3   key_point     24093 non-null  object\n",
      " 4   topic         24093 non-null  object\n",
      " 5   stance        24093 non-null  int64 \n",
      " 6   label         24093 non-null  int64 \n",
      "dtypes: int64(2), object(5)\n",
      "memory usage: 1.5+ MB\n"
     ]
    }
   ],
   "source": [
    "fit_df.info()"
   ]
  },
  {
   "cell_type": "code",
   "execution_count": 6,
   "metadata": {
    "pycharm": {
     "name": "#%%\n"
    }
   },
   "outputs": [
    {
     "data": {
      "text/plain": "'The number of topics: 28'"
     },
     "execution_count": 6,
     "metadata": {},
     "output_type": "execute_result"
    }
   ],
   "source": [
    "f\"The number of topics: {len(set(fit_df.topic))}\""
   ]
  },
  {
   "cell_type": "code",
   "execution_count": 7,
   "metadata": {
    "pycharm": {
     "name": "#%%\n"
    }
   },
   "outputs": [
    {
     "data": {
      "text/plain": "'The number of arguments: 6515'"
     },
     "execution_count": 7,
     "metadata": {},
     "output_type": "execute_result"
    }
   ],
   "source": [
    "f\"The number of arguments: {len(set(fit_df.argument))}\""
   ]
  },
  {
   "cell_type": "code",
   "execution_count": 8,
   "metadata": {
    "pycharm": {
     "name": "#%%\n"
    }
   },
   "outputs": [
    {
     "data": {
      "text/plain": "'The number of keypoints: 243'"
     },
     "execution_count": 8,
     "metadata": {},
     "output_type": "execute_result"
    }
   ],
   "source": [
    "f\"The number of keypoints: {len(set(fit_df.key_point_id))}\""
   ]
  },
  {
   "cell_type": "code",
   "execution_count": 9,
   "metadata": {
    "pycharm": {
     "name": "#%%\n"
    }
   },
   "outputs": [
    {
     "name": "stdout",
     "output_type": "stream",
     "text": [
      "Have duplicated argument: True\n",
      "Have duplicated keypoint: True\n",
      "Have duplicated topic: True\n"
     ]
    }
   ],
   "source": [
    "print(f\"Have duplicated argument: {len(set(fit_df.argument)) != len(fit_df)}\")\n",
    "print(f\"Have duplicated keypoint: {len(set(fit_df.key_point)) != len(fit_df)}\")\n",
    "print(f\"Have duplicated topic: {len(set(fit_df.topic)) != len(fit_df)}\")\n"
   ]
  },
  {
   "cell_type": "code",
   "execution_count": 10,
   "metadata": {
    "pycharm": {
     "name": "#%%\n"
    }
   },
   "outputs": [
    {
     "data": {
      "text/plain": "Counter({0: 19095, 1: 4998})"
     },
     "execution_count": 10,
     "metadata": {},
     "output_type": "execute_result"
    }
   ],
   "source": [
    "counter = Counter(fit_df['label'])\n",
    "counter"
   ]
  },
  {
   "cell_type": "code",
   "execution_count": 11,
   "metadata": {
    "pycharm": {
     "name": "#%%\n"
    }
   },
   "outputs": [],
   "source": [
    "pos_ratios = []\n",
    "for topic in set(fit_df.topic):\n",
    "    _stance = fit_df[fit_df.topic == topic].stance\n",
    "    _counter = Counter(_stance)\n",
    "    _counter_sorted = sorted(_counter.items())\n",
    "    pos_ratios.append(_counter_sorted[1][1]/_counter_sorted[0][1])"
   ]
  },
  {
   "cell_type": "code",
   "execution_count": 12,
   "metadata": {
    "pycharm": {
     "name": "#%%\n"
    }
   },
   "outputs": [
    {
     "data": {
      "text/plain": "<Figure size 576x576 with 1 Axes>",
      "image/png": "[encoded data removed]"
     },
     "metadata": {
      "needs_background": "light"
     },
     "output_type": "display_data"
    }
   ],
   "source": [
    "fig = plt.figure(figsize=(8,8))\n",
    "plt.hist(pos_ratios, rwidth=0.9)\n",
    "plt.title(\"Positive stance ratio on specific topics\")\n",
    "plt.show()"
   ]
  },
  {
   "cell_type": "markdown",
   "metadata": {
    "pycharm": {
     "name": "#%% md\n"
    }
   },
   "source": [
    "## Length"
   ]
  },
  {
   "cell_type": "code",
   "execution_count": 12,
   "metadata": {
    "pycharm": {
     "name": "#%%\n"
    }
   },
   "outputs": [],
   "source": []
  },
  {
   "cell_type": "code",
   "execution_count": 13,
   "metadata": {
    "pycharm": {
     "name": "#%%\n"
    }
   },
   "outputs": [],
   "source": [
    "argu_length = []\n",
    "for argu in set(fit_df.argument):\n",
    "    _len = len(argu.split(' '))\n",
    "    argu_length.append(_len)"
   ]
  },
  {
   "cell_type": "code",
   "execution_count": 14,
   "metadata": {
    "pycharm": {
     "name": "#%%\n"
    }
   },
   "outputs": [],
   "source": [
    "argu_tk_length = []\n",
    "for argu in set(fit_df.argument):\n",
    "    _len = len(tokenizer.tokenize(argu))\n",
    "    argu_tk_length.append(_len)"
   ]
  },
  {
   "cell_type": "code",
   "execution_count": 15,
   "metadata": {
    "pycharm": {
     "name": "#%%\n"
    }
   },
   "outputs": [],
   "source": [
    "topic_length = []\n",
    "for topic in set(fit_df.topic):\n",
    "    _len = len(topic.split(' '))\n",
    "    topic_length.append(_len)"
   ]
  },
  {
   "cell_type": "code",
   "execution_count": 16,
   "metadata": {
    "pycharm": {
     "name": "#%%\n"
    }
   },
   "outputs": [],
   "source": [
    "topic_tk_length = []\n",
    "for tp in set(fit_df.topic):\n",
    "    _len = len(tokenizer.tokenize(tp))\n",
    "    topic_tk_length.append(_len)"
   ]
  },
  {
   "cell_type": "code",
   "execution_count": 17,
   "metadata": {
    "pycharm": {
     "name": "#%%\n"
    }
   },
   "outputs": [],
   "source": [
    "kp_length = []\n",
    "for kp in set(fit_df.key_point):\n",
    "    _len = len(kp.split(' '))\n",
    "    kp_length.append(_len)"
   ]
  },
  {
   "cell_type": "code",
   "execution_count": 18,
   "metadata": {
    "pycharm": {
     "name": "#%%\n"
    }
   },
   "outputs": [],
   "source": [
    "kp_tk_length = []\n",
    "for kp in set(fit_df.key_point):\n",
    "    _len = len(tokenizer.tokenize(kp))\n",
    "    kp_tk_length.append(_len)"
   ]
  },
  {
   "cell_type": "code",
   "execution_count": 19,
   "metadata": {
    "pycharm": {
     "name": "#%%\n"
    }
   },
   "outputs": [],
   "source": [
    "pair_tk_len = [sum(x) for x in zip(argu_tk_length, topic_tk_length)]\n",
    "pair_len = [sum(x) for x in zip(argu_length, topic_length)]\n"
   ]
  },
  {
   "cell_type": "code",
   "execution_count": 21,
   "metadata": {
    "pycharm": {
     "name": "#%%\n"
    }
   },
   "outputs": [
    {
     "data": {
      "text/plain": "<Figure size 1512x864 with 6 Axes>",
      "image/png": "[encoded data removed]"
     },
     "metadata": {
      "needs_background": "light"
     },
     "output_type": "display_data"
    }
   ],
   "source": [
    "fig, axs = plt.subplots(2, 3, figsize=(21,12))\n",
    "axs.ravel()\n",
    "\n",
    "axs[0,0].hist(argu_length, rwidth=0.9, density=True)\n",
    "axs[0,0].set_title(\"Number of argument words\", fontsize=18)\n",
    "\n",
    "axs[0, 1].hist(topic_length, rwidth=0.9, density=True)\n",
    "axs[0, 1].set_title(\"Number of topic words\", fontsize=18)\n",
    "\n",
    "axs[0, 2].hist(kp_length, rwidth=0.9, density=True)\n",
    "axs[0, 2].set_title(\"Number of key point words\", fontsize=18)\n",
    "\n",
    "axs[1, 0].hist(argu_tk_length, rwidth=0.9, density=True)\n",
    "axs[1, 0].set_title(\"Number of argument tokens\", fontsize=18)\n",
    "\n",
    "axs[1, 1].hist(topic_tk_length, rwidth=0.9, density=True)\n",
    "axs[1, 1].set_title(\"Number of topic tokens\", fontsize=18)\n",
    "\n",
    "axs[1, 2].hist(kp_tk_length, rwidth=0.9, density=True)\n",
    "axs[1, 2].set_title(\"Number of key point tokens\", fontsize=18)\n",
    "\n",
    "# axs[2, 0].hist(pair_len, rwidth=0.9)\n",
    "# axs[2, 0].set_title(\"Number of pair words\", fontsize=18)\n",
    "\n",
    "# axs[2, 1].hist(pair_tk_len, rwidth=0.9)\n",
    "# axs[2, 1].set_title(\"Number of pair tokens\", fontsize=18)\n",
    "\n",
    "fig.supxlabel(\"Length\", fontsize=18)\n",
    "fig.supylabel(\"Density\", fontsize=18)\n",
    "\n",
    "plt.tight_layout()\n",
    "\n",
    "plt.show()"
   ]
  },
  {
   "cell_type": "code",
   "execution_count": 56,
   "metadata": {
    "pycharm": {
     "name": "#%%\n"
    }
   },
   "outputs": [
    {
     "data": {
      "text/plain": [
       "41"
      ]
     },
     "execution_count": 56,
     "metadata": {},
     "output_type": "execute_result"
    }
   ],
   "source": [
    "max(pair_tk_len)"
   ]
  },
  {
   "cell_type": "markdown",
   "metadata": {
    "pycharm": {
     "name": "#%% md\n"
    }
   },
   "source": [
    "## Label distribution over different columns"
   ]
  },
  {
   "cell_type": "code",
   "execution_count": 18,
   "metadata": {
    "pycharm": {
     "name": "#%%\n"
    }
   },
   "outputs": [
    {
     "data": {
      "text/plain": [
       "label    0.204462\n",
       "dtype: float64"
      ]
     },
     "execution_count": 18,
     "metadata": {},
     "output_type": "execute_result"
    }
   ],
   "source": [
    "fit_df[['arg_id', 'label']].groupby('arg_id').mean().std()"
   ]
  },
  {
   "cell_type": "code",
   "execution_count": 17,
   "metadata": {
    "pycharm": {
     "name": "#%%\n"
    }
   },
   "outputs": [
    {
     "data": {
      "text/plain": [
       "label    0.208997\n",
       "dtype: float64"
      ]
     },
     "execution_count": 17,
     "metadata": {},
     "output_type": "execute_result"
    }
   ],
   "source": [
    "fit_df[['key_point_id', 'label']].groupby('key_point_id').mean().std()"
   ]
  },
  {
   "cell_type": "code",
   "execution_count": 16,
   "metadata": {
    "pycharm": {
     "name": "#%%\n"
    }
   },
   "outputs": [
    {
     "data": {
      "text/plain": [
       "label    0.093498\n",
       "dtype: float64"
      ]
     },
     "execution_count": 16,
     "metadata": {},
     "output_type": "execute_result"
    }
   ],
   "source": [
    "fit_df[['topic', 'label']].groupby('topic').mean().std()"
   ]
  },
  {
   "cell_type": "code",
   "execution_count": null,
   "metadata": {
    "pycharm": {
     "name": "#%%\n"
    }
   },
   "outputs": [],
   "source": []
  }
 ],
 "metadata": {
  "kernelspec": {
   "display_name": "Python 3 (ipykernel)",
   "language": "python",
   "name": "python3"
  },
  "language_info": {
   "codemirror_mode": {
    "name": "ipython",
    "version": 3
   },
   "file_extension": ".py",
   "mimetype": "text/x-python",
   "name": "python",
   "nbconvert_exporter": "python",
   "pygments_lexer": "ipython3",
   "version": "3.7.11"
  }
 },
 "nbformat": 4,
 "nbformat_minor": 1
}